{
 "cells": [
  {
   "attachments": {},
   "cell_type": "markdown",
   "metadata": {},
   "source": [
    "# 链式求导拓展到向量\n",
    "\n",
    "## 法则\n",
    "\n",
    "### 标量链式法则\n",
    "y = f(u), u = g(x) 则<br>\n",
    "```\n",
    "dy/dx = dy/du * du/dx\n",
    "```\n",
    "\n",
    "### 推广到向量\n",
    "y,x,u都为向量，则<br>\n",
    "```\n",
    "dy/dx = dy/du * du/dx\n",
    "```\n",
    "y 为 m 维，x 为 n 维，u 为 k 维，则\n",
    "- dy/du 为 m x k 维 \n",
    "- du/dx 为 k x n 维\n",
    "- dy/dx 为 m x n 维\n",
    "\n",
    "\n",
    "\n",
    "\n",
    "## 总结\n",
    "- 微分和积分是微积分的两个分支，前者可以应用于深度学习中的优化问题。\n",
    "- 导数可以被解释为函数相对于其变量的瞬时变化率，它也是函数曲线的切线的斜率。\n",
    "- 梯度是一个向量，其分量是多变量函数相对于其所有变量的偏导数。\n",
    "- 链式法则可以用来微分复合函数。"
   ]
  },
  {
   "cell_type": "markdown",
   "metadata": {},
   "source": []
  }
 ],
 "metadata": {
  "language_info": {
   "name": "python"
  },
  "orig_nbformat": 4
 },
 "nbformat": 4,
 "nbformat_minor": 2
}
