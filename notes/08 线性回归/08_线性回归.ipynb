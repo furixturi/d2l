{
 "cells": [
  {
   "attachments": {},
   "cell_type": "markdown",
   "metadata": {},
   "source": [
    "# 线性回归 Linear Regression\n",
    "\n",
    "## 线性模型\n",
    "\n",
    "自变量<b>x</b>跟因变量y之间的关系时线性的，即y可表示为<b>x</b>中元素的加权和。线性建模：\n",
    "\n",
    "$$ \\hat{y} = \\mathbf{w}^\\top \\mathbf{x} + b $$"
   ]
  },
  {
   "attachments": {},
   "cell_type": "markdown",
   "metadata": {},
   "source": [
    "每个样本含有 d 个 feature, 我们的数据集有 n 个样本，则可以用 n x d 矩阵 $\\mathbf{X}$ 表示整个数据集的所有特征，向量 $\\hat{\\mathbf{y}} \\in \\mathbb{R}^n$ 表示所有的预测结果：\n",
    "\n",
    "$$ {\\hat{\\mathbf{y}}} = \\mathbf{X} \\mathbf{w} + b $$"
   ]
  },
  {
   "attachments": {},
   "cell_type": "markdown",
   "metadata": {},
   "source": [
    "## 损失函数 Loss function\n",
    "\n",
    "损失函数量化目标的实际值与预测值之间的差距。回归问题中最常用的损失函数是平方误差函数 `MSE` 。当样本 i 的预测值为 $ \\hat{y}^{(i)} $，其对应的实际标签为 $ y^{(i)} $ 时，该样本的平方误差 $ l^{(i)} $ 可定义为 （常数 1/2 是为了方便求导计算梯度）：\n",
    "\n",
    "$$ l^{(i)}(\\mathbf{w}, b) = \\frac{1}{2} \\left(\\hat{y}^{(i)} - y^{(i)}\\right)^2 $$"
   ]
  },
  {
   "attachments": {},
   "cell_type": "markdown",
   "metadata": {},
   "source": [
    "为了评价模型在整改数据集上的表现，我们计算它在整个数据集 n 个样本上的平方误差的平均值：\n",
    "\n",
    "$$ L(\\mathbf{w}, b) =\\frac{1}{n}\\sum_{i=1}^n l^{(i)}(\\mathbf{w}, b) =\\frac{1}{n} \\sum_{i=1}^n \\frac{1}{2}\\left(\\mathbf{w}^\\top \\mathbf{x}^{(i)} + b - y^{(i)}\\right)^2 $$"
   ]
  },
  {
   "attachments": {},
   "cell_type": "markdown",
   "metadata": {},
   "source": [
    "在训练模型时，我们希望寻找到一组参数 $ \\mathbf{w}^*, b^* $ 来最小化在整个数据集 n 个样本上的总损失平均值（即上面的损失函数） ：\n",
    "\n",
    "$$ \\mathbf{w}^*, b^* = \\operatorname*{argmin}_{\\mathbf{w}, b}\\  L(\\mathbf{w}, b) $$"
   ]
  },
  {
   "attachments": {},
   "cell_type": "markdown",
   "metadata": {},
   "source": [
    "## 随机梯度下降 SGD (Stochastic Gradient Descent)"
   ]
  },
  {
   "attachments": {},
   "cell_type": "markdown",
   "metadata": {},
   "source": [
    "随机梯度下降几乎可以优化所有深度学习模型，它通过不断地在损失函数递减的方向上更新参数来持续减少误差。\n",
    "\n",
    "SGD 最简单的实现方法是计算损失函数（数据集中所有样本的损失均值）关于模型参数的导数（梯度），然后向梯度反方向更新参数。\n",
    "\n",
    "每次更新参数之前我们需要遍历整个数据集，在现实中这样做太慢，所以我们通常在每次需要计算更新的时候随机抽取一小批样本，这种做法叫 `小批量随机梯度下降 (minibatch stochastic gradient descent)`。\n",
    "\n"
   ]
  },
  {
   "attachments": {},
   "cell_type": "markdown",
   "metadata": {},
   "source": [
    "进行 SGD 时，我们先随机初始化所有参数 $ (\\mathbf{w},b) $，然后迭代更新它们。\n",
    "\n",
    "每次迭代，\n",
    "\n",
    "1. 先随机抽取一个小批量 $ \\mathcal{B} $（批量中的样本数是一个由我们选择的固定的超参数）\n",
    "2. 然后用 Loss function 计算模型对这个小批量的样本进行预测的平均损失的偏导数得到梯度 $ \\partial_{(\\mathbf{w},b)} $\n",
    "3. 再将这个梯度乘以学习率 $ \\eta $（这是另一个由我们决定的固定的超参数）得到每个参数的更新量\n",
    "4. 最后从参数中减去更新量完成这一次更新。\n",
    "\n",
    "表示成式子如下：\n",
    "\n",
    "$$ (\\mathbf{w},b) \\leftarrow (\\mathbf{w},b) - \\frac{\\eta}{|\\mathcal{B}|} \\sum_{i \\in \\mathcal{B}} \\partial_{(\\mathbf{w},b)} l^{(i)}(\\mathbf{w},b) $$"
   ]
  },
  {
   "attachments": {},
   "cell_type": "markdown",
   "metadata": {},
   "source": [
    "线性回归的 Loss 函数很好计算：\n",
    "\n",
    "$$ \\begin{split}\\begin{aligned} \\mathbf{w} &\\leftarrow \\mathbf{w} -   \\frac{\\eta}{|\\mathcal{B}|} \\sum_{i \\in \\mathcal{B}} \\partial_{\\mathbf{w}} l^{(i)}(\\mathbf{w}, b) = \\mathbf{w} - \\frac{\\eta}{|\\mathcal{B}|} \\sum_{i \\in \\mathcal{B}} \\mathbf{x}^{(i)} \\left(\\mathbf{w}^\\top \\mathbf{x}^{(i)} + b - y^{(i)}\\right),\\\\ b &\\leftarrow b -  \\frac{\\eta}{|\\mathcal{B}|} \\sum_{i \\in \\mathcal{B}} \\partial_b l^{(i)}(\\mathbf{w}, b)  = b - \\frac{\\eta}{|\\mathcal{B}|} \\sum_{i \\in \\mathcal{B}} \\left(\\mathbf{w}^\\top \\mathbf{x}^{(i)} + b - y^{(i)}\\right). \\end{aligned}\\end{split} $$"
   ]
  },
  {
   "attachments": {},
   "cell_type": "markdown",
   "metadata": {},
   "source": [
    "我们根据迭代结果来调整超参数，称为调参 hyperparameter tuning。\n"
   ]
  },
  {
   "attachments": {},
   "cell_type": "markdown",
   "metadata": {},
   "source": [
    "利用 torch 等的线性代数计算我们可以同时处理整个小批量的样本来提高效率，所以我们对计算进行矢量化。\n",
    "\n",
    "线性回归可以看作是单层神经网络。"
   ]
  },
  {
   "attachments": {},
   "cell_type": "markdown",
   "metadata": {},
   "source": [
    "## 从零开始实现线性回归"
   ]
  },
  {
   "cell_type": "code",
   "execution_count": 3,
   "metadata": {},
   "outputs": [
    {
     "name": "stdout",
     "output_type": "stream",
     "text": [
      "Collecting matplotlib\n",
      "  Downloading matplotlib-3.7.1-cp39-cp39-macosx_11_0_arm64.whl (7.3 MB)\n",
      "\u001b[K     |████████████████████████████████| 7.3 MB 8.4 MB/s eta 0:00:01\n",
      "\u001b[?25hRequirement already satisfied: torch in /Users/xiaolishen/opt/miniconda3/lib/python3.9/site-packages (2.0.0)\n",
      "Collecting d2l\n",
      "  Downloading d2l-0.17.6-py3-none-any.whl (112 kB)\n",
      "\u001b[K     |████████████████████████████████| 112 kB 68.6 MB/s eta 0:00:01\n",
      "\u001b[?25hRequirement already satisfied: python-dateutil>=2.7 in /Users/xiaolishen/opt/miniconda3/lib/python3.9/site-packages (from matplotlib) (2.8.2)\n",
      "Collecting fonttools>=4.22.0\n",
      "  Downloading fonttools-4.39.3-py3-none-any.whl (1.0 MB)\n",
      "\u001b[K     |████████████████████████████████| 1.0 MB 30.1 MB/s eta 0:00:01\n",
      "\u001b[?25hCollecting contourpy>=1.0.1\n",
      "  Downloading contourpy-1.0.7-cp39-cp39-macosx_11_0_arm64.whl (229 kB)\n",
      "\u001b[K     |████████████████████████████████| 229 kB 77.9 MB/s eta 0:00:01\n",
      "\u001b[?25hCollecting kiwisolver>=1.0.1\n",
      "  Downloading kiwisolver-1.4.4-cp39-cp39-macosx_11_0_arm64.whl (63 kB)\n",
      "\u001b[K     |████████████████████████████████| 63 kB 16.0 MB/s  eta 0:00:01\n",
      "\u001b[?25hCollecting cycler>=0.10\n",
      "  Downloading cycler-0.11.0-py3-none-any.whl (6.4 kB)\n",
      "Collecting importlib-resources>=3.2.0\n",
      "  Downloading importlib_resources-5.12.0-py3-none-any.whl (36 kB)\n",
      "Requirement already satisfied: numpy>=1.20 in /Users/xiaolishen/opt/miniconda3/lib/python3.9/site-packages (from matplotlib) (1.24.2)\n",
      "Requirement already satisfied: packaging>=20.0 in /Users/xiaolishen/opt/miniconda3/lib/python3.9/site-packages (from matplotlib) (23.0)\n",
      "Collecting pyparsing>=2.3.1\n",
      "  Downloading pyparsing-3.0.9-py3-none-any.whl (98 kB)\n",
      "\u001b[K     |████████████████████████████████| 98 kB 22.7 MB/s eta 0:00:01\n",
      "\u001b[?25hCollecting pillow>=6.2.0\n",
      "  Downloading Pillow-9.5.0-cp39-cp39-macosx_11_0_arm64.whl (3.1 MB)\n",
      "\u001b[K     |████████████████████████████████| 3.1 MB 127.1 MB/s eta 0:00:01\n",
      "\u001b[?25hRequirement already satisfied: sympy in /Users/xiaolishen/opt/miniconda3/lib/python3.9/site-packages (from torch) (1.11.1)\n",
      "Requirement already satisfied: filelock in /Users/xiaolishen/opt/miniconda3/lib/python3.9/site-packages (from torch) (3.11.0)\n",
      "Requirement already satisfied: typing-extensions in /Users/xiaolishen/opt/miniconda3/lib/python3.9/site-packages (from torch) (4.5.0)\n",
      "Requirement already satisfied: jinja2 in /Users/xiaolishen/opt/miniconda3/lib/python3.9/site-packages (from torch) (3.1.2)\n",
      "Requirement already satisfied: networkx in /Users/xiaolishen/opt/miniconda3/lib/python3.9/site-packages (from torch) (3.1)\n",
      "Collecting pandas==1.2.4\n",
      "  Downloading pandas-1.2.4.tar.gz (5.5 MB)\n",
      "\u001b[K     |████████████████████████████████| 5.5 MB 108.9 MB/s eta 0:00:01\n",
      "\u001b[?25h  Installing build dependencies ... \u001b[?25ldone\n",
      "\u001b[?25h  Getting requirements to build wheel ... \u001b[?25ldone\n",
      "\u001b[?25h    Preparing wheel metadata ... \u001b[?25ldone\n",
      "\u001b[?25hRequirement already satisfied: jupyter==1.0.0 in /Users/xiaolishen/opt/miniconda3/lib/python3.9/site-packages (from d2l) (1.0.0)\n",
      "Collecting matplotlib\n",
      "  Downloading matplotlib-3.5.1-cp39-cp39-macosx_11_0_arm64.whl (7.2 MB)\n",
      "\u001b[K     |████████████████████████████████| 7.2 MB 23.9 MB/s eta 0:00:01\n",
      "\u001b[?25hCollecting requests==2.25.1\n",
      "  Downloading requests-2.25.1-py2.py3-none-any.whl (61 kB)\n",
      "\u001b[K     |████████████████████████████████| 61 kB 53.5 MB/s  eta 0:00:01\n",
      "\u001b[?25hCollecting numpy>=1.20\n",
      "  Downloading numpy-1.21.5-cp39-cp39-macosx_11_0_arm64.whl (12.4 MB)\n",
      "\u001b[K     |████████████████████████████████| 12.4 MB 59.1 MB/s eta 0:00:01\n",
      "\u001b[?25hRequirement already satisfied: ipykernel in /Users/xiaolishen/opt/miniconda3/lib/python3.9/site-packages (from jupyter==1.0.0->d2l) (6.22.0)\n",
      "Requirement already satisfied: notebook in /Users/xiaolishen/opt/miniconda3/lib/python3.9/site-packages (from jupyter==1.0.0->d2l) (6.5.4)\n",
      "Requirement already satisfied: qtconsole in /Users/xiaolishen/opt/miniconda3/lib/python3.9/site-packages (from jupyter==1.0.0->d2l) (5.4.2)\n",
      "Requirement already satisfied: nbconvert in /Users/xiaolishen/opt/miniconda3/lib/python3.9/site-packages (from jupyter==1.0.0->d2l) (7.3.1)\n",
      "Requirement already satisfied: jupyter-console in /Users/xiaolishen/opt/miniconda3/lib/python3.9/site-packages (from jupyter==1.0.0->d2l) (6.6.3)\n",
      "Requirement already satisfied: ipywidgets in /Users/xiaolishen/opt/miniconda3/lib/python3.9/site-packages (from jupyter==1.0.0->d2l) (8.0.6)\n",
      "Requirement already satisfied: pytz>=2017.3 in /Users/xiaolishen/opt/miniconda3/lib/python3.9/site-packages (from pandas==1.2.4->d2l) (2023.3)\n",
      "Collecting chardet<5,>=3.0.2\n",
      "  Downloading chardet-4.0.0-py2.py3-none-any.whl (178 kB)\n",
      "\u001b[K     |████████████████████████████████| 178 kB 11.6 MB/s eta 0:00:01\n",
      "\u001b[?25hCollecting idna<3,>=2.5\n",
      "  Downloading idna-2.10-py2.py3-none-any.whl (58 kB)\n",
      "\u001b[K     |████████████████████████████████| 58 kB 12.3 MB/s eta 0:00:01\n",
      "\u001b[?25hRequirement already satisfied: certifi>=2017.4.17 in /Users/xiaolishen/opt/miniconda3/lib/python3.9/site-packages (from requests==2.25.1->d2l) (2022.12.7)\n",
      "Requirement already satisfied: urllib3<1.27,>=1.21.1 in /Users/xiaolishen/opt/miniconda3/lib/python3.9/site-packages (from requests==2.25.1->d2l) (1.26.9)\n",
      "Requirement already satisfied: zipp>=3.1.0 in /Users/xiaolishen/opt/miniconda3/lib/python3.9/site-packages (from importlib-resources>=3.2.0->matplotlib) (3.15.0)\n",
      "Requirement already satisfied: six>=1.5 in /Users/xiaolishen/opt/miniconda3/lib/python3.9/site-packages (from python-dateutil>=2.7->matplotlib) (1.16.0)\n",
      "Requirement already satisfied: psutil in /Users/xiaolishen/opt/miniconda3/lib/python3.9/site-packages (from ipykernel->jupyter==1.0.0->d2l) (5.9.4)\n",
      "Requirement already satisfied: traitlets>=5.4.0 in /Users/xiaolishen/opt/miniconda3/lib/python3.9/site-packages (from ipykernel->jupyter==1.0.0->d2l) (5.9.0)\n",
      "Requirement already satisfied: nest-asyncio in /Users/xiaolishen/opt/miniconda3/lib/python3.9/site-packages (from ipykernel->jupyter==1.0.0->d2l) (1.5.6)\n",
      "Requirement already satisfied: jupyter-client>=6.1.12 in /Users/xiaolishen/opt/miniconda3/lib/python3.9/site-packages (from ipykernel->jupyter==1.0.0->d2l) (8.1.0)\n",
      "Requirement already satisfied: matplotlib-inline>=0.1 in /Users/xiaolishen/opt/miniconda3/lib/python3.9/site-packages (from ipykernel->jupyter==1.0.0->d2l) (0.1.6)\n",
      "Requirement already satisfied: jupyter-core!=5.0.*,>=4.12 in /Users/xiaolishen/opt/miniconda3/lib/python3.9/site-packages (from ipykernel->jupyter==1.0.0->d2l) (5.3.0)\n",
      "Requirement already satisfied: comm>=0.1.1 in /Users/xiaolishen/opt/miniconda3/lib/python3.9/site-packages (from ipykernel->jupyter==1.0.0->d2l) (0.1.3)\n",
      "Requirement already satisfied: pyzmq>=20 in /Users/xiaolishen/opt/miniconda3/lib/python3.9/site-packages (from ipykernel->jupyter==1.0.0->d2l) (25.0.2)\n",
      "Requirement already satisfied: ipython>=7.23.1 in /Users/xiaolishen/opt/miniconda3/lib/python3.9/site-packages (from ipykernel->jupyter==1.0.0->d2l) (8.12.0)\n",
      "Requirement already satisfied: debugpy>=1.6.5 in /Users/xiaolishen/opt/miniconda3/lib/python3.9/site-packages (from ipykernel->jupyter==1.0.0->d2l) (1.6.7)\n",
      "Requirement already satisfied: tornado>=6.1 in /Users/xiaolishen/opt/miniconda3/lib/python3.9/site-packages (from ipykernel->jupyter==1.0.0->d2l) (6.2)\n",
      "Requirement already satisfied: appnope in /Users/xiaolishen/opt/miniconda3/lib/python3.9/site-packages (from ipykernel->jupyter==1.0.0->d2l) (0.1.3)\n",
      "Requirement already satisfied: backcall in /Users/xiaolishen/opt/miniconda3/lib/python3.9/site-packages (from ipython>=7.23.1->ipykernel->jupyter==1.0.0->d2l) (0.2.0)\n",
      "Requirement already satisfied: pickleshare in /Users/xiaolishen/opt/miniconda3/lib/python3.9/site-packages (from ipython>=7.23.1->ipykernel->jupyter==1.0.0->d2l) (0.7.5)\n",
      "Requirement already satisfied: pygments>=2.4.0 in /Users/xiaolishen/opt/miniconda3/lib/python3.9/site-packages (from ipython>=7.23.1->ipykernel->jupyter==1.0.0->d2l) (2.15.0)\n",
      "Requirement already satisfied: jedi>=0.16 in /Users/xiaolishen/opt/miniconda3/lib/python3.9/site-packages (from ipython>=7.23.1->ipykernel->jupyter==1.0.0->d2l) (0.18.2)\n",
      "Requirement already satisfied: prompt-toolkit!=3.0.37,<3.1.0,>=3.0.30 in /Users/xiaolishen/opt/miniconda3/lib/python3.9/site-packages (from ipython>=7.23.1->ipykernel->jupyter==1.0.0->d2l) (3.0.38)\n",
      "Requirement already satisfied: decorator in /Users/xiaolishen/opt/miniconda3/lib/python3.9/site-packages (from ipython>=7.23.1->ipykernel->jupyter==1.0.0->d2l) (5.1.1)\n",
      "Requirement already satisfied: stack-data in /Users/xiaolishen/opt/miniconda3/lib/python3.9/site-packages (from ipython>=7.23.1->ipykernel->jupyter==1.0.0->d2l) (0.6.2)\n",
      "Requirement already satisfied: pexpect>4.3 in /Users/xiaolishen/opt/miniconda3/lib/python3.9/site-packages (from ipython>=7.23.1->ipykernel->jupyter==1.0.0->d2l) (4.8.0)\n",
      "Requirement already satisfied: parso<0.9.0,>=0.8.0 in /Users/xiaolishen/opt/miniconda3/lib/python3.9/site-packages (from jedi>=0.16->ipython>=7.23.1->ipykernel->jupyter==1.0.0->d2l) (0.8.3)\n",
      "Requirement already satisfied: importlib-metadata>=4.8.3 in /Users/xiaolishen/opt/miniconda3/lib/python3.9/site-packages (from jupyter-client>=6.1.12->ipykernel->jupyter==1.0.0->d2l) (6.3.0)\n",
      "Requirement already satisfied: platformdirs>=2.5 in /Users/xiaolishen/opt/miniconda3/lib/python3.9/site-packages (from jupyter-core!=5.0.*,>=4.12->ipykernel->jupyter==1.0.0->d2l) (3.2.0)\n",
      "Requirement already satisfied: ptyprocess>=0.5 in /Users/xiaolishen/opt/miniconda3/lib/python3.9/site-packages (from pexpect>4.3->ipython>=7.23.1->ipykernel->jupyter==1.0.0->d2l) (0.7.0)\n",
      "Requirement already satisfied: wcwidth in /Users/xiaolishen/opt/miniconda3/lib/python3.9/site-packages (from prompt-toolkit!=3.0.37,<3.1.0,>=3.0.30->ipython>=7.23.1->ipykernel->jupyter==1.0.0->d2l) (0.2.6)\n",
      "Requirement already satisfied: widgetsnbextension~=4.0.7 in /Users/xiaolishen/opt/miniconda3/lib/python3.9/site-packages (from ipywidgets->jupyter==1.0.0->d2l) (4.0.7)\n",
      "Requirement already satisfied: jupyterlab-widgets~=3.0.7 in /Users/xiaolishen/opt/miniconda3/lib/python3.9/site-packages (from ipywidgets->jupyter==1.0.0->d2l) (3.0.7)\n",
      "Requirement already satisfied: MarkupSafe>=2.0 in /Users/xiaolishen/opt/miniconda3/lib/python3.9/site-packages (from jinja2->torch) (2.1.2)\n",
      "Requirement already satisfied: jupyterlab-pygments in /Users/xiaolishen/opt/miniconda3/lib/python3.9/site-packages (from nbconvert->jupyter==1.0.0->d2l) (0.2.2)\n",
      "Requirement already satisfied: nbclient>=0.5.0 in /Users/xiaolishen/opt/miniconda3/lib/python3.9/site-packages (from nbconvert->jupyter==1.0.0->d2l) (0.7.3)\n",
      "Requirement already satisfied: tinycss2 in /Users/xiaolishen/opt/miniconda3/lib/python3.9/site-packages (from nbconvert->jupyter==1.0.0->d2l) (1.2.1)\n",
      "Requirement already satisfied: bleach in /Users/xiaolishen/opt/miniconda3/lib/python3.9/site-packages (from nbconvert->jupyter==1.0.0->d2l) (6.0.0)\n",
      "Requirement already satisfied: pandocfilters>=1.4.1 in /Users/xiaolishen/opt/miniconda3/lib/python3.9/site-packages (from nbconvert->jupyter==1.0.0->d2l) (1.5.0)\n",
      "Requirement already satisfied: mistune<3,>=2.0.3 in /Users/xiaolishen/opt/miniconda3/lib/python3.9/site-packages (from nbconvert->jupyter==1.0.0->d2l) (2.0.5)\n",
      "Requirement already satisfied: beautifulsoup4 in /Users/xiaolishen/opt/miniconda3/lib/python3.9/site-packages (from nbconvert->jupyter==1.0.0->d2l) (4.12.2)\n",
      "Requirement already satisfied: defusedxml in /Users/xiaolishen/opt/miniconda3/lib/python3.9/site-packages (from nbconvert->jupyter==1.0.0->d2l) (0.7.1)\n",
      "Requirement already satisfied: nbformat>=5.1 in /Users/xiaolishen/opt/miniconda3/lib/python3.9/site-packages (from nbconvert->jupyter==1.0.0->d2l) (5.8.0)\n",
      "Requirement already satisfied: fastjsonschema in /Users/xiaolishen/opt/miniconda3/lib/python3.9/site-packages (from nbformat>=5.1->nbconvert->jupyter==1.0.0->d2l) (2.16.3)\n",
      "Requirement already satisfied: jsonschema>=2.6 in /Users/xiaolishen/opt/miniconda3/lib/python3.9/site-packages (from nbformat>=5.1->nbconvert->jupyter==1.0.0->d2l) (4.17.3)\n",
      "Requirement already satisfied: pyrsistent!=0.17.0,!=0.17.1,!=0.17.2,>=0.14.0 in /Users/xiaolishen/opt/miniconda3/lib/python3.9/site-packages (from jsonschema>=2.6->nbformat>=5.1->nbconvert->jupyter==1.0.0->d2l) (0.19.3)\n",
      "Requirement already satisfied: attrs>=17.4.0 in /Users/xiaolishen/opt/miniconda3/lib/python3.9/site-packages (from jsonschema>=2.6->nbformat>=5.1->nbconvert->jupyter==1.0.0->d2l) (22.2.0)\n",
      "Requirement already satisfied: soupsieve>1.2 in /Users/xiaolishen/opt/miniconda3/lib/python3.9/site-packages (from beautifulsoup4->nbconvert->jupyter==1.0.0->d2l) (2.4)\n",
      "Requirement already satisfied: webencodings in /Users/xiaolishen/opt/miniconda3/lib/python3.9/site-packages (from bleach->nbconvert->jupyter==1.0.0->d2l) (0.5.1)\n",
      "Requirement already satisfied: prometheus-client in /Users/xiaolishen/opt/miniconda3/lib/python3.9/site-packages (from notebook->jupyter==1.0.0->d2l) (0.16.0)\n",
      "Requirement already satisfied: nbclassic>=0.4.7 in /Users/xiaolishen/opt/miniconda3/lib/python3.9/site-packages (from notebook->jupyter==1.0.0->d2l) (0.5.5)\n",
      "Requirement already satisfied: Send2Trash>=1.8.0 in /Users/xiaolishen/opt/miniconda3/lib/python3.9/site-packages (from notebook->jupyter==1.0.0->d2l) (1.8.0)\n",
      "Requirement already satisfied: terminado>=0.8.3 in /Users/xiaolishen/opt/miniconda3/lib/python3.9/site-packages (from notebook->jupyter==1.0.0->d2l) (0.17.1)\n",
      "Requirement already satisfied: ipython-genutils in /Users/xiaolishen/opt/miniconda3/lib/python3.9/site-packages (from notebook->jupyter==1.0.0->d2l) (0.2.0)\n",
      "Requirement already satisfied: argon2-cffi in /Users/xiaolishen/opt/miniconda3/lib/python3.9/site-packages (from notebook->jupyter==1.0.0->d2l) (21.3.0)\n",
      "Requirement already satisfied: jupyter-server>=1.8 in /Users/xiaolishen/opt/miniconda3/lib/python3.9/site-packages (from nbclassic>=0.4.7->notebook->jupyter==1.0.0->d2l) (2.5.0)\n",
      "Requirement already satisfied: notebook-shim>=0.1.0 in /Users/xiaolishen/opt/miniconda3/lib/python3.9/site-packages (from nbclassic>=0.4.7->notebook->jupyter==1.0.0->d2l) (0.2.2)\n",
      "Requirement already satisfied: anyio>=3.1.0 in /Users/xiaolishen/opt/miniconda3/lib/python3.9/site-packages (from jupyter-server>=1.8->nbclassic>=0.4.7->notebook->jupyter==1.0.0->d2l) (3.6.2)\n",
      "Requirement already satisfied: jupyter-events>=0.4.0 in /Users/xiaolishen/opt/miniconda3/lib/python3.9/site-packages (from jupyter-server>=1.8->nbclassic>=0.4.7->notebook->jupyter==1.0.0->d2l) (0.6.3)\n",
      "Requirement already satisfied: websocket-client in /Users/xiaolishen/opt/miniconda3/lib/python3.9/site-packages (from jupyter-server>=1.8->nbclassic>=0.4.7->notebook->jupyter==1.0.0->d2l) (1.5.1)\n",
      "Requirement already satisfied: jupyter-server-terminals in /Users/xiaolishen/opt/miniconda3/lib/python3.9/site-packages (from jupyter-server>=1.8->nbclassic>=0.4.7->notebook->jupyter==1.0.0->d2l) (0.4.4)\n",
      "Requirement already satisfied: sniffio>=1.1 in /Users/xiaolishen/opt/miniconda3/lib/python3.9/site-packages (from anyio>=3.1.0->jupyter-server>=1.8->nbclassic>=0.4.7->notebook->jupyter==1.0.0->d2l) (1.3.0)\n",
      "Requirement already satisfied: rfc3986-validator>=0.1.1 in /Users/xiaolishen/opt/miniconda3/lib/python3.9/site-packages (from jupyter-events>=0.4.0->jupyter-server>=1.8->nbclassic>=0.4.7->notebook->jupyter==1.0.0->d2l) (0.1.1)\n",
      "Requirement already satisfied: pyyaml>=5.3 in /Users/xiaolishen/opt/miniconda3/lib/python3.9/site-packages (from jupyter-events>=0.4.0->jupyter-server>=1.8->nbclassic>=0.4.7->notebook->jupyter==1.0.0->d2l) (6.0)\n",
      "Requirement already satisfied: python-json-logger>=2.0.4 in /Users/xiaolishen/opt/miniconda3/lib/python3.9/site-packages (from jupyter-events>=0.4.0->jupyter-server>=1.8->nbclassic>=0.4.7->notebook->jupyter==1.0.0->d2l) (2.0.7)\n",
      "Requirement already satisfied: rfc3339-validator in /Users/xiaolishen/opt/miniconda3/lib/python3.9/site-packages (from jupyter-events>=0.4.0->jupyter-server>=1.8->nbclassic>=0.4.7->notebook->jupyter==1.0.0->d2l) (0.1.4)\n",
      "Requirement already satisfied: webcolors>=1.11 in /Users/xiaolishen/opt/miniconda3/lib/python3.9/site-packages (from jsonschema>=2.6->nbformat>=5.1->nbconvert->jupyter==1.0.0->d2l) (1.13)\n",
      "Requirement already satisfied: jsonpointer>1.13 in /Users/xiaolishen/opt/miniconda3/lib/python3.9/site-packages (from jsonschema>=2.6->nbformat>=5.1->nbconvert->jupyter==1.0.0->d2l) (2.3)\n",
      "Requirement already satisfied: fqdn in /Users/xiaolishen/opt/miniconda3/lib/python3.9/site-packages (from jsonschema>=2.6->nbformat>=5.1->nbconvert->jupyter==1.0.0->d2l) (1.5.1)\n",
      "Requirement already satisfied: isoduration in /Users/xiaolishen/opt/miniconda3/lib/python3.9/site-packages (from jsonschema>=2.6->nbformat>=5.1->nbconvert->jupyter==1.0.0->d2l) (20.11.0)\n",
      "Requirement already satisfied: uri-template in /Users/xiaolishen/opt/miniconda3/lib/python3.9/site-packages (from jsonschema>=2.6->nbformat>=5.1->nbconvert->jupyter==1.0.0->d2l) (1.2.0)\n",
      "Requirement already satisfied: argon2-cffi-bindings in /Users/xiaolishen/opt/miniconda3/lib/python3.9/site-packages (from argon2-cffi->notebook->jupyter==1.0.0->d2l) (21.2.0)\n",
      "Requirement already satisfied: cffi>=1.0.1 in /Users/xiaolishen/opt/miniconda3/lib/python3.9/site-packages (from argon2-cffi-bindings->argon2-cffi->notebook->jupyter==1.0.0->d2l) (1.15.0)\n",
      "Requirement already satisfied: pycparser in /Users/xiaolishen/opt/miniconda3/lib/python3.9/site-packages (from cffi>=1.0.1->argon2-cffi-bindings->argon2-cffi->notebook->jupyter==1.0.0->d2l) (2.21)\n",
      "Requirement already satisfied: arrow>=0.15.0 in /Users/xiaolishen/opt/miniconda3/lib/python3.9/site-packages (from isoduration->jsonschema>=2.6->nbformat>=5.1->nbconvert->jupyter==1.0.0->d2l) (1.2.3)\n",
      "Requirement already satisfied: qtpy>=2.0.1 in /Users/xiaolishen/opt/miniconda3/lib/python3.9/site-packages (from qtconsole->jupyter==1.0.0->d2l) (2.3.1)\n",
      "Requirement already satisfied: asttokens>=2.1.0 in /Users/xiaolishen/opt/miniconda3/lib/python3.9/site-packages (from stack-data->ipython>=7.23.1->ipykernel->jupyter==1.0.0->d2l) (2.2.1)\n",
      "Requirement already satisfied: pure-eval in /Users/xiaolishen/opt/miniconda3/lib/python3.9/site-packages (from stack-data->ipython>=7.23.1->ipykernel->jupyter==1.0.0->d2l) (0.2.2)\n",
      "Requirement already satisfied: executing>=1.2.0 in /Users/xiaolishen/opt/miniconda3/lib/python3.9/site-packages (from stack-data->ipython>=7.23.1->ipykernel->jupyter==1.0.0->d2l) (1.2.0)\n",
      "Requirement already satisfied: mpmath>=0.19 in /Users/xiaolishen/opt/miniconda3/lib/python3.9/site-packages (from sympy->torch) (1.3.0)\n",
      "Building wheels for collected packages: pandas\n",
      "  Building wheel for pandas (PEP 517) ... \u001b[?25ldone\n",
      "\u001b[?25h  Created wheel for pandas: filename=pandas-1.2.4-cp39-cp39-macosx_11_0_arm64.whl size=9163183 sha256=eb97ed11c1a00c6e4193985d054b2244a51cf43ed4cfc89fd3cd8a56d4504135\n",
      "  Stored in directory: /Users/xiaolishen/Library/Caches/pip/wheels/1c/18/1d/96f6fb133a77724bc42fce621a44162d840d037b9289c4a874\n",
      "Successfully built pandas\n",
      "Installing collected packages: idna, pyparsing, pillow, numpy, kiwisolver, fonttools, cycler, chardet, requests, pandas, matplotlib, d2l\n",
      "  Attempting uninstall: idna\n",
      "    Found existing installation: idna 3.3\n",
      "    Uninstalling idna-3.3:\n",
      "      Successfully uninstalled idna-3.3\n",
      "  Attempting uninstall: numpy\n",
      "    Found existing installation: numpy 1.24.2\n",
      "    Uninstalling numpy-1.24.2:\n",
      "      Successfully uninstalled numpy-1.24.2\n",
      "  Attempting uninstall: requests\n",
      "    Found existing installation: requests 2.27.1\n",
      "    Uninstalling requests-2.27.1:\n",
      "      Successfully uninstalled requests-2.27.1\n",
      "  Attempting uninstall: pandas\n",
      "    Found existing installation: pandas 2.0.0\n",
      "    Uninstalling pandas-2.0.0:\n",
      "      Successfully uninstalled pandas-2.0.0\n",
      "Successfully installed chardet-4.0.0 cycler-0.11.0 d2l-0.17.6 fonttools-4.39.3 idna-2.10 kiwisolver-1.4.4 matplotlib-3.5.1 numpy-1.23.5 pandas-1.5.3 pillow-9.5.0 pyparsing-3.0.9 requests-2.25.1\n"
     ]
    }
   ],
   "source": [
    "!pip3 install matplotlib torch d2l"
   ]
  },
  {
   "cell_type": "code",
   "execution_count": null,
   "metadata": {},
   "outputs": [],
   "source": [
    "%matplotlib inline\n",
    "import random\n",
    "import torch\n",
    "from d2l import torch as d2l"
   ]
  }
 ],
 "metadata": {
  "kernelspec": {
   "display_name": "Python 3 (ipykernel)",
   "language": "python",
   "name": "python3"
  },
  "language_info": {
   "codemirror_mode": {
    "name": "ipython",
    "version": 3
   },
   "file_extension": ".py",
   "mimetype": "text/x-python",
   "name": "python",
   "nbconvert_exporter": "python",
   "pygments_lexer": "ipython3",
   "version": "3.9.12"
  },
  "orig_nbformat": 4
 },
 "nbformat": 4,
 "nbformat_minor": 2
}
