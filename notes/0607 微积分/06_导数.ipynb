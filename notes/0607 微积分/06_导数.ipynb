{
 "cells": [
  {
   "attachments": {},
   "cell_type": "markdown",
   "metadata": {},
   "source": [
    "# 导数\n",
    "\n",
    "导数是切线的斜率。所有机器学习模型的优化都是靠求导数来实现的。\n",
    "\n",
    "表示导数的符号们：\n",
    "\n",
    "f'(x) = y' = dy/dx = df/dx = d/dx f(x) = Df(x) = D<sub>x</sub>f(x)\n",
    "\n",
    "## 常见的求导数公式\n",
    "\n",
    "- Da = 0 (a 为常数)\n",
    "- Dx<sup>n</sup> = nx<sup>n-1</sup>\n",
    "- De<sup>x</sup> = e<sup>x</sup>\n",
    "- Dln(x) = 1/x\n",
    "- Dsin(x) = cos(x)\n",
    "\n",
    "## 导数的运算规则\n",
    "\n",
    "a 为常数，u、v 为 x 的函数\n",
    "\n",
    "- 常数相乘法则，可以拎出来：Daf(x) = aDf(x)\n",
    "- 加法法则：D(u+v) = Du + Dv\n",
    "- 乘法法则：D(uv) = vDu + uDv\n",
    "- 除法法则：D(u/v) = (vDu - uDv)/v<sup>2</sup>"
   ]
  },
  {
   "attachments": {},
   "cell_type": "markdown",
   "metadata": {},
   "source": [
    "### 链式法则\n",
    "\n",
    "设 y = f(u), u = g(x)\n",
    "\n",
    "则 dy/dx = dy/du * du/dx"
   ]
  },
  {
   "attachments": {},
   "cell_type": "markdown",
   "metadata": {},
   "source": [
    "## 亚导数跟偏导数\n",
    "\n",
    "### 亚导数\n",
    "\n",
    "当函数在取值空间上有不可微的部分，我们用 `亚导数` 来扩展这个函数的导数。\n"
   ]
  },
  {
   "attachments": {},
   "cell_type": "markdown",
   "metadata": {},
   "source": [
    "Dmax(x,0) = 1 if x > 0, 0 if x < 0, a if x = 0, a in [0,1]"
   ]
  },
  {
   "attachments": {},
   "cell_type": "markdown",
   "metadata": {},
   "source": [
    "### 偏导数\n",
    "\n",
    "`偏导数` 是指在多元函数中，对与其中的一个自变量 x<sub>i</sub>，其他自变量保持不变，对该自变量求导的结果。它只关注函数在某个点的某个自变量的变化率，而不考虑其他自变量对影响，因此只是一个多元函数的局部变化率的一种度量方式。"
   ]
  },
  {
   "attachments": {},
   "cell_type": "markdown",
   "metadata": {},
   "source": [
    "## 梯度 Gradient\n",
    "\n",
    "将导数拓展到向量。\n",
    "\n",
    "对于 dy/dx\n",
    "\n",
    "- y, x 均为标量，则 dy/dx 为标量\n",
    "- y 为标量，x 为列向量，则 dy/dx 为行向量\n",
    "- y 为列向量，x 为标量，则 dy/dx 为列向量\n",
    "- y, x 均为列向量，则 dy/dx 为矩阵\n",
    "\n",
    "### y 为标量，x 列向量，则 dy/dx 为行向量\n",
    "x 为\n",
    "\n",
    "x<sub>1</sub><br>\n",
    "x<sub>2</sub><br>\n",
    "...<br>\n",
    "x<sub>n</sub>\n",
    "\n",
    "y 为 f(x<sub>1</sub>, x<sub>2</sub>, ... , x<sub>n</sub>)\n",
    "\n",
    "则 dy/dx 为\n",
    "\n",
    "dy/dx<sub>1</sub>, dy/dx<sub>2</sub>, ... dy/dx<sub>n</sub>\n",
    "\n"
   ]
  },
  {
   "attachments": {},
   "cell_type": "markdown",
   "metadata": {},
   "source": [
    "#### 具体例子 \n",
    "\n",
    "x 为二维列向量 [[x<sub>1</sub>], [x<sub>2</sub>]]<br>\n",
    "y = x<sub>1</sub><sup>2</sup> + 2x<sub>2</sub><sup>2</sup>\n",
    "\n",
    "则导数\n",
    "\n",
    "dy/dx = D(x<sub>1</sub><sup>2</sup>+2x<sub>2</sub><sup>2</sup>) = [2x<sub>1</sub>, 4x<sub>2</sub>]\n",
    "\n",
    "为二维行向量\n",
    "\n",
    "#### 更多例子\n",
    "\n",
    "<b>x</b> 为列向量，y 为标量。a 为与 x 无关的函数（或者标量）。<b>0</b> 和 <b>1</b> 为列向量。 \n",
    "- y = a, 则 dy/d<b>x</b> = <b>0</b><sup>T</sup>  (y与x无关，则 dy/d<b>x</b> 为全是0的行向量)\n",
    "- y = au, 则 dy/d<b>x</b> = a * du/d<b>x</b>\n",
    "- y = sum(<b>x</b>), 则 dy/d<b>x</b> = <b>1</b><sup>T</sup>\n",
    "- y = ||<b>x</b>||<sup>2</sup>, 则 dy/d<b>x</b> = 2<b>x</b><sup>T</sup> \n",
    "\n",
    "<br>\n",
    "\n",
    "- y = u + v, dy/d<b>x</b> = du/d<b>x</b> + dv/d<b>x</b>\n",
    "- y = uv, dy/d<b>x</b> = v * (du/d<b>x</b>) + u * (dv/d<b>x</b>)\n",
    "- y = <u, v>, dy/d<b>x</b> = u<sup>T</sup> * (dv/dx) + v<sup>T</sup> * (du/dx)"
   ]
  },
  {
   "attachments": {},
   "cell_type": "markdown",
   "metadata": {},
   "source": [
    "### y 为列向量，x 为标量，则 dy/dx 为列向量\n",
    "\n"
   ]
  },
  {
   "attachments": {},
   "cell_type": "markdown",
   "metadata": {},
   "source": [
    "<b>y</b> 为\n",
    "\n",
    "y<sub>1</sub><br>\n",
    "y<sub>2</sub><br>\n",
    "...<br>\n",
    "y<sub>n</sub><br>\n",
    "\n",
    "x 为标量，则\n",
    "\n",
    "d<b>y</d>/dx = \n",
    "\n",
    "dy<sub>1</sub>/dx<br>\n",
    "dy<sub>2</sub>/dx<br>\n",
    "...<br>\n",
    "dy<sub>n</sub>/dx\n",
    "\n",
    "这个叫做分子布局符号，反之叫做分母布局符号。"
   ]
  },
  {
   "attachments": {},
   "cell_type": "markdown",
   "metadata": {},
   "source": [
    "### y 和 x 都为列向量\n",
    "\n",
    "则它们的导数为矩阵。\n",
    "\n",
    "x<sup>T</sup> = [x1, x2, ..., xn], y<sup>T</sup> = [y1, y2, ..., ym]\n",
    "\n",
    "则 \n",
    "\n",
    "dy/dx = [dy1/dx, dy2/dx, ..., dym/dx] = \n",
    "\n",
    "dy1/dx1, dy1/dx2, ..., dy1/dxn<br>"
   ]
  },
  {
   "attachments": {},
   "cell_type": "markdown",
   "metadata": {},
   "source": [
    "#### 样例\n",
    "\n",
    "x 是一个 n 维向量，y 是一个 m 维向量，dy/dx 是一个 m x n 矩阵.\n",
    "\n",
    "a, A 是跟 x 无关的向量和矩阵\n",
    "0 全部元素为 0 的矩阵\n",
    "I 为单位矩阵 (identity matrix, 对角线上的元素为1，其它元素都为0)\n",
    "\n",
    "| y | a | x | Ax | x<sup>T</sup>A | au | Au | u + v |\n",
    "|---|---|---|---|---|---|---|---|\n",
    "| dy/dx  | 0 | I | A | A<sup>T</sup> | a(du/dx) | A(du/dx) | du/dx + dv/dx |\n"
   ]
  },
  {
   "cell_type": "markdown",
   "metadata": {},
   "source": []
  }
 ],
 "metadata": {
  "language_info": {
   "name": "python"
  },
  "orig_nbformat": 4
 },
 "nbformat": 4,
 "nbformat_minor": 2
}
